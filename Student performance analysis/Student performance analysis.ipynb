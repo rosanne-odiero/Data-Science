{
 "cells": [
  {
   "cell_type": "code",
   "execution_count": 1,
   "metadata": {},
   "outputs": [],
   "source": [
    "import numpy as np\n",
    "import pandas as pd\n",
    "import matplotlib.pyplot as plt\n",
    "import seaborn as sns\n",
    "sns.set(style=\"whitegrid\")\n",
    "%matplotlib inline\n",
    "from sklearn.model_selection import GridSearchCV\n",
    "from sklearn.preprocessing import LabelEncoder\n",
    "from sklearn.preprocessing import LabelBinarizer\n",
    "from sklearn import linear_model\n",
    "from sklearn.model_selection import cross_val_score\n",
    "from sklearn.model_selection import cross_validate\n",
    "from sklearn.model_selection import LeaveOneOut"
   ]
  },
  {
   "cell_type": "code",
   "execution_count": 2,
   "metadata": {},
   "outputs": [],
   "source": [
    "#load datasets for two subjects, Math and Portuguese\n",
    "math_df =pd.read_csv('student-mat.csv')\n",
    "Portuguese_df = pd.read_csv(\"student-port.csv\")\n",
    "\n"
   ]
  },
  {
   "cell_type": "code",
   "execution_count": 3,
   "metadata": {},
   "outputs": [],
   "source": [
    "# merge datasets\n",
    "student_df = pd.concat([math_df,Portuguese_df],sort=False)"
   ]
  },
  {
   "cell_type": "code",
   "execution_count": 4,
   "metadata": {},
   "outputs": [
    {
     "data": {
      "text/html": [
       "<div>\n",
       "<style scoped>\n",
       "    .dataframe tbody tr th:only-of-type {\n",
       "        vertical-align: middle;\n",
       "    }\n",
       "\n",
       "    .dataframe tbody tr th {\n",
       "        vertical-align: top;\n",
       "    }\n",
       "\n",
       "    .dataframe thead th {\n",
       "        text-align: right;\n",
       "    }\n",
       "</style>\n",
       "<table border=\"1\" class=\"dataframe\">\n",
       "  <thead>\n",
       "    <tr style=\"text-align: right;\">\n",
       "      <th></th>\n",
       "      <th>school</th>\n",
       "      <th>sex</th>\n",
       "      <th>age</th>\n",
       "      <th>address</th>\n",
       "      <th>famsize</th>\n",
       "      <th>Pstatus</th>\n",
       "      <th>Medu</th>\n",
       "      <th>Fedu</th>\n",
       "      <th>Mjob</th>\n",
       "      <th>Fjob</th>\n",
       "      <th>...</th>\n",
       "      <th>famrel</th>\n",
       "      <th>freetime</th>\n",
       "      <th>goout</th>\n",
       "      <th>Dalc</th>\n",
       "      <th>Walc</th>\n",
       "      <th>health</th>\n",
       "      <th>absences</th>\n",
       "      <th>G1</th>\n",
       "      <th>G2</th>\n",
       "      <th>G3</th>\n",
       "    </tr>\n",
       "  </thead>\n",
       "  <tbody>\n",
       "    <tr>\n",
       "      <th>0</th>\n",
       "      <td>GP</td>\n",
       "      <td>F</td>\n",
       "      <td>18</td>\n",
       "      <td>U</td>\n",
       "      <td>GT3</td>\n",
       "      <td>A</td>\n",
       "      <td>4</td>\n",
       "      <td>4</td>\n",
       "      <td>at_home</td>\n",
       "      <td>teacher</td>\n",
       "      <td>...</td>\n",
       "      <td>4</td>\n",
       "      <td>3</td>\n",
       "      <td>4</td>\n",
       "      <td>1</td>\n",
       "      <td>1</td>\n",
       "      <td>3</td>\n",
       "      <td>6</td>\n",
       "      <td>5</td>\n",
       "      <td>6</td>\n",
       "      <td>6</td>\n",
       "    </tr>\n",
       "    <tr>\n",
       "      <th>1</th>\n",
       "      <td>GP</td>\n",
       "      <td>F</td>\n",
       "      <td>17</td>\n",
       "      <td>U</td>\n",
       "      <td>GT3</td>\n",
       "      <td>T</td>\n",
       "      <td>1</td>\n",
       "      <td>1</td>\n",
       "      <td>at_home</td>\n",
       "      <td>other</td>\n",
       "      <td>...</td>\n",
       "      <td>5</td>\n",
       "      <td>3</td>\n",
       "      <td>3</td>\n",
       "      <td>1</td>\n",
       "      <td>1</td>\n",
       "      <td>3</td>\n",
       "      <td>4</td>\n",
       "      <td>5</td>\n",
       "      <td>5</td>\n",
       "      <td>6</td>\n",
       "    </tr>\n",
       "    <tr>\n",
       "      <th>2</th>\n",
       "      <td>GP</td>\n",
       "      <td>F</td>\n",
       "      <td>15</td>\n",
       "      <td>U</td>\n",
       "      <td>LE3</td>\n",
       "      <td>T</td>\n",
       "      <td>1</td>\n",
       "      <td>1</td>\n",
       "      <td>at_home</td>\n",
       "      <td>other</td>\n",
       "      <td>...</td>\n",
       "      <td>4</td>\n",
       "      <td>3</td>\n",
       "      <td>2</td>\n",
       "      <td>2</td>\n",
       "      <td>3</td>\n",
       "      <td>3</td>\n",
       "      <td>10</td>\n",
       "      <td>7</td>\n",
       "      <td>8</td>\n",
       "      <td>10</td>\n",
       "    </tr>\n",
       "    <tr>\n",
       "      <th>3</th>\n",
       "      <td>GP</td>\n",
       "      <td>F</td>\n",
       "      <td>15</td>\n",
       "      <td>U</td>\n",
       "      <td>GT3</td>\n",
       "      <td>T</td>\n",
       "      <td>4</td>\n",
       "      <td>2</td>\n",
       "      <td>health</td>\n",
       "      <td>services</td>\n",
       "      <td>...</td>\n",
       "      <td>3</td>\n",
       "      <td>2</td>\n",
       "      <td>2</td>\n",
       "      <td>1</td>\n",
       "      <td>1</td>\n",
       "      <td>5</td>\n",
       "      <td>2</td>\n",
       "      <td>15</td>\n",
       "      <td>14</td>\n",
       "      <td>15</td>\n",
       "    </tr>\n",
       "    <tr>\n",
       "      <th>4</th>\n",
       "      <td>GP</td>\n",
       "      <td>F</td>\n",
       "      <td>16</td>\n",
       "      <td>U</td>\n",
       "      <td>GT3</td>\n",
       "      <td>T</td>\n",
       "      <td>3</td>\n",
       "      <td>3</td>\n",
       "      <td>other</td>\n",
       "      <td>other</td>\n",
       "      <td>...</td>\n",
       "      <td>4</td>\n",
       "      <td>3</td>\n",
       "      <td>2</td>\n",
       "      <td>1</td>\n",
       "      <td>2</td>\n",
       "      <td>5</td>\n",
       "      <td>4</td>\n",
       "      <td>6</td>\n",
       "      <td>10</td>\n",
       "      <td>10</td>\n",
       "    </tr>\n",
       "  </tbody>\n",
       "</table>\n",
       "<p>5 rows × 33 columns</p>\n",
       "</div>"
      ],
      "text/plain": [
       "  school sex  age address famsize Pstatus  Medu  Fedu     Mjob      Fjob  ...  \\\n",
       "0     GP   F   18       U     GT3       A     4     4  at_home   teacher  ...   \n",
       "1     GP   F   17       U     GT3       T     1     1  at_home     other  ...   \n",
       "2     GP   F   15       U     LE3       T     1     1  at_home     other  ...   \n",
       "3     GP   F   15       U     GT3       T     4     2   health  services  ...   \n",
       "4     GP   F   16       U     GT3       T     3     3    other     other  ...   \n",
       "\n",
       "  famrel freetime  goout  Dalc  Walc health absences  G1  G2  G3  \n",
       "0      4        3      4     1     1      3        6   5   6   6  \n",
       "1      5        3      3     1     1      3        4   5   5   6  \n",
       "2      4        3      2     2     3      3       10   7   8  10  \n",
       "3      3        2      2     1     1      5        2  15  14  15  \n",
       "4      4        3      2     1     2      5        4   6  10  10  \n",
       "\n",
       "[5 rows x 33 columns]"
      ]
     },
     "execution_count": 4,
     "metadata": {},
     "output_type": "execute_result"
    }
   ],
   "source": [
    "student_df.head()"
   ]
  },
  {
   "cell_type": "code",
   "execution_count": 5,
   "metadata": {},
   "outputs": [],
   "source": [
    "'''\n",
    "1 school - student's school (binary: 'GP' - Gabriel Pereira or 'MS' - Mousinho da Silveira) \n",
    "2 sex - student's sex (binary: 'F' - female or 'M' - male) \n",
    "3 age - student's age (numeric: from 15 to 22) \n",
    "4 address - student's home address type (binary: 'U' - urban or 'R' - rural) \n",
    "5 famsize - family size (binary: 'LE3' - less or equal to 3 or 'GT3' - greater than 3) \n",
    "6 Pstatus - parent's cohabitation status (binary: 'T' - living together or 'A' - apart) \n",
    "7 Medu - mother's education (numeric: 0 - none, 1 - primary education (4th grade), 2 â€“ 5th to 9th grade, 3 â€“ secondary education or 4 â€“ higher education) \n",
    "8 Fedu - father's education (numeric: 0 - none, 1 - primary education (4th grade), 2 â€“ 5th to 9th grade, 3 â€“ secondary education or 4 â€“ higher education) \n",
    "9 Mjob - mother's job (nominal: 'teacher', 'health' care related, civil 'services' (e.g. administrative or police), 'at_home' or 'other') \n",
    "10 Fjob - father's job (nominal: 'teacher', 'health' care related, civil 'services' (e.g. administrative or police), 'at_home' or 'other') \n",
    "11 reason - reason to choose this school (nominal: close to 'home', school 'reputation', 'course' preference or 'other') \n",
    "12 guardian - student's guardian (nominal: 'mother', 'father' or 'other') \n",
    "13 traveltime - home to school travel time (numeric: 1 - <15 min., 2 - 15 to 30 min., 3 - 30 min. to 1 hour, or 4 - >1 hour) \n",
    "14 studytime - weekly study time (numeric: 1 - <2 hours, 2 - 2 to 5 hours, 3 - 5 to 10 hours, or 4 - >10 hours) \n",
    "15 failures - number of past class failures (numeric: n if 1<=n<3, else 4) \n",
    "16 schoolsup - extra educational support (binary: yes or no) \n",
    "17 famsup - family educational support (binary: yes or no) \n",
    "18 paid - extra paid classes within the course subject (Math or Portuguese) (binary: yes or no) \n",
    "19 activities - extra-curricular activities (binary: yes or no) \n",
    "20 nursery - attended nursery school (binary: yes or no) \n",
    "21 higher - wants to take higher education (binary: yes or no) \n",
    "22 internet - Internet access at home (binary: yes or no) \n",
    "23 romantic - with a romantic relationship (binary: yes or no) \n",
    "24 famrel - quality of family relationships (numeric: from 1 - very bad to 5 - excellent) \n",
    "25 freetime - free time after school (numeric: from 1 - very low to 5 - very high) \n",
    "26 goout - going out with friends (numeric: from 1 - very low to 5 - very high) \n",
    "27 Dalc - workday alcohol consumption (numeric: from 1 - very low to 5 - very high) \n",
    "28 Walc - weekend alcohol consumption (numeric: from 1 - very low to 5 - very high) \n",
    "29 health - current health status (numeric: from 1 - very bad to 5 - very good) \n",
    "30 absences - number of school absences (numeric: from 0 to 93) \n",
    "\n",
    "# these grades are related with the course subject, Math or Portuguese: \n",
    "31 G1 - first period grade (numeric: from 0 to 20) \n",
    "31 G2 - second period grade (numeric: from 0 to 20) \n",
    "32 G3 - final grade (numeric: from 0 to 20, output target\n",
    "'''\n",
    "pass"
   ]
  },
  {
   "cell_type": "code",
   "execution_count": 6,
   "metadata": {},
   "outputs": [],
   "source": [
    "student_df.columns = ['school','sex','age','address','family_size','parents_status','mother_education','father_education',\n",
    "           'mother_job','father_job','reason','guardian','commute_time','study_time','failures','school_support',\n",
    "          'family_support','paid_classes','activities','nursery','desire_higher_edu','internet','romantic','family_quality',\n",
    "          'free_time','go_out','weekday_alcohol_usage','weekend_alcohol_usage','health','absences','period1_score','period2_score','final_score']"
   ]
  },
  {
   "cell_type": "code",
   "execution_count": 7,
   "metadata": {},
   "outputs": [
    {
     "data": {
      "text/html": [
       "<div>\n",
       "<style scoped>\n",
       "    .dataframe tbody tr th:only-of-type {\n",
       "        vertical-align: middle;\n",
       "    }\n",
       "\n",
       "    .dataframe tbody tr th {\n",
       "        vertical-align: top;\n",
       "    }\n",
       "\n",
       "    .dataframe thead th {\n",
       "        text-align: right;\n",
       "    }\n",
       "</style>\n",
       "<table border=\"1\" class=\"dataframe\">\n",
       "  <thead>\n",
       "    <tr style=\"text-align: right;\">\n",
       "      <th></th>\n",
       "      <th>school</th>\n",
       "      <th>sex</th>\n",
       "      <th>age</th>\n",
       "      <th>address</th>\n",
       "      <th>family_size</th>\n",
       "      <th>parents_status</th>\n",
       "      <th>mother_education</th>\n",
       "      <th>father_education</th>\n",
       "      <th>mother_job</th>\n",
       "      <th>father_job</th>\n",
       "      <th>...</th>\n",
       "      <th>family_quality</th>\n",
       "      <th>free_time</th>\n",
       "      <th>go_out</th>\n",
       "      <th>weekday_alcohol_usage</th>\n",
       "      <th>weekend_alcohol_usage</th>\n",
       "      <th>health</th>\n",
       "      <th>absences</th>\n",
       "      <th>period1_score</th>\n",
       "      <th>period2_score</th>\n",
       "      <th>final_score</th>\n",
       "    </tr>\n",
       "  </thead>\n",
       "  <tbody>\n",
       "    <tr>\n",
       "      <th>0</th>\n",
       "      <td>GP</td>\n",
       "      <td>F</td>\n",
       "      <td>18</td>\n",
       "      <td>U</td>\n",
       "      <td>GT3</td>\n",
       "      <td>A</td>\n",
       "      <td>4</td>\n",
       "      <td>4</td>\n",
       "      <td>at_home</td>\n",
       "      <td>teacher</td>\n",
       "      <td>...</td>\n",
       "      <td>4</td>\n",
       "      <td>3</td>\n",
       "      <td>4</td>\n",
       "      <td>1</td>\n",
       "      <td>1</td>\n",
       "      <td>3</td>\n",
       "      <td>6</td>\n",
       "      <td>5</td>\n",
       "      <td>6</td>\n",
       "      <td>6</td>\n",
       "    </tr>\n",
       "    <tr>\n",
       "      <th>1</th>\n",
       "      <td>GP</td>\n",
       "      <td>F</td>\n",
       "      <td>17</td>\n",
       "      <td>U</td>\n",
       "      <td>GT3</td>\n",
       "      <td>T</td>\n",
       "      <td>1</td>\n",
       "      <td>1</td>\n",
       "      <td>at_home</td>\n",
       "      <td>other</td>\n",
       "      <td>...</td>\n",
       "      <td>5</td>\n",
       "      <td>3</td>\n",
       "      <td>3</td>\n",
       "      <td>1</td>\n",
       "      <td>1</td>\n",
       "      <td>3</td>\n",
       "      <td>4</td>\n",
       "      <td>5</td>\n",
       "      <td>5</td>\n",
       "      <td>6</td>\n",
       "    </tr>\n",
       "    <tr>\n",
       "      <th>2</th>\n",
       "      <td>GP</td>\n",
       "      <td>F</td>\n",
       "      <td>15</td>\n",
       "      <td>U</td>\n",
       "      <td>LE3</td>\n",
       "      <td>T</td>\n",
       "      <td>1</td>\n",
       "      <td>1</td>\n",
       "      <td>at_home</td>\n",
       "      <td>other</td>\n",
       "      <td>...</td>\n",
       "      <td>4</td>\n",
       "      <td>3</td>\n",
       "      <td>2</td>\n",
       "      <td>2</td>\n",
       "      <td>3</td>\n",
       "      <td>3</td>\n",
       "      <td>10</td>\n",
       "      <td>7</td>\n",
       "      <td>8</td>\n",
       "      <td>10</td>\n",
       "    </tr>\n",
       "    <tr>\n",
       "      <th>3</th>\n",
       "      <td>GP</td>\n",
       "      <td>F</td>\n",
       "      <td>15</td>\n",
       "      <td>U</td>\n",
       "      <td>GT3</td>\n",
       "      <td>T</td>\n",
       "      <td>4</td>\n",
       "      <td>2</td>\n",
       "      <td>health</td>\n",
       "      <td>services</td>\n",
       "      <td>...</td>\n",
       "      <td>3</td>\n",
       "      <td>2</td>\n",
       "      <td>2</td>\n",
       "      <td>1</td>\n",
       "      <td>1</td>\n",
       "      <td>5</td>\n",
       "      <td>2</td>\n",
       "      <td>15</td>\n",
       "      <td>14</td>\n",
       "      <td>15</td>\n",
       "    </tr>\n",
       "    <tr>\n",
       "      <th>4</th>\n",
       "      <td>GP</td>\n",
       "      <td>F</td>\n",
       "      <td>16</td>\n",
       "      <td>U</td>\n",
       "      <td>GT3</td>\n",
       "      <td>T</td>\n",
       "      <td>3</td>\n",
       "      <td>3</td>\n",
       "      <td>other</td>\n",
       "      <td>other</td>\n",
       "      <td>...</td>\n",
       "      <td>4</td>\n",
       "      <td>3</td>\n",
       "      <td>2</td>\n",
       "      <td>1</td>\n",
       "      <td>2</td>\n",
       "      <td>5</td>\n",
       "      <td>4</td>\n",
       "      <td>6</td>\n",
       "      <td>10</td>\n",
       "      <td>10</td>\n",
       "    </tr>\n",
       "  </tbody>\n",
       "</table>\n",
       "<p>5 rows × 33 columns</p>\n",
       "</div>"
      ],
      "text/plain": [
       "  school sex  age address family_size parents_status  mother_education  \\\n",
       "0     GP   F   18       U         GT3              A                 4   \n",
       "1     GP   F   17       U         GT3              T                 1   \n",
       "2     GP   F   15       U         LE3              T                 1   \n",
       "3     GP   F   15       U         GT3              T                 4   \n",
       "4     GP   F   16       U         GT3              T                 3   \n",
       "\n",
       "   father_education mother_job father_job  ... family_quality free_time  \\\n",
       "0                 4    at_home    teacher  ...              4         3   \n",
       "1                 1    at_home      other  ...              5         3   \n",
       "2                 1    at_home      other  ...              4         3   \n",
       "3                 2     health   services  ...              3         2   \n",
       "4                 3      other      other  ...              4         3   \n",
       "\n",
       "   go_out  weekday_alcohol_usage  weekend_alcohol_usage health absences  \\\n",
       "0       4                      1                      1      3        6   \n",
       "1       3                      1                      1      3        4   \n",
       "2       2                      2                      3      3       10   \n",
       "3       2                      1                      1      5        2   \n",
       "4       2                      1                      2      5        4   \n",
       "\n",
       "  period1_score period2_score final_score  \n",
       "0             5             6           6  \n",
       "1             5             5           6  \n",
       "2             7             8          10  \n",
       "3            15            14          15  \n",
       "4             6            10          10  \n",
       "\n",
       "[5 rows x 33 columns]"
      ]
     },
     "execution_count": 7,
     "metadata": {},
     "output_type": "execute_result"
    }
   ],
   "source": [
    "student_df.head()"
   ]
  },
  {
   "cell_type": "code",
   "execution_count": 8,
   "metadata": {},
   "outputs": [
    {
     "data": {
      "text/plain": [
       "school                   False\n",
       "sex                      False\n",
       "age                      False\n",
       "address                  False\n",
       "family_size              False\n",
       "parents_status           False\n",
       "mother_education         False\n",
       "father_education         False\n",
       "mother_job               False\n",
       "father_job               False\n",
       "reason                   False\n",
       "guardian                 False\n",
       "commute_time             False\n",
       "study_time               False\n",
       "failures                 False\n",
       "school_support           False\n",
       "family_support           False\n",
       "paid_classes             False\n",
       "activities               False\n",
       "nursery                  False\n",
       "desire_higher_edu        False\n",
       "internet                 False\n",
       "romantic                 False\n",
       "family_quality           False\n",
       "free_time                False\n",
       "go_out                   False\n",
       "weekday_alcohol_usage    False\n",
       "weekend_alcohol_usage    False\n",
       "health                   False\n",
       "absences                 False\n",
       "period1_score            False\n",
       "period2_score            False\n",
       "final_score              False\n",
       "dtype: bool"
      ]
     },
     "execution_count": 8,
     "metadata": {},
     "output_type": "execute_result"
    }
   ],
   "source": [
    "# look for missing values\n",
    "student_df.isnull().any()"
   ]
  },
  {
   "cell_type": "code",
   "execution_count": 9,
   "metadata": {},
   "outputs": [
    {
     "data": {
      "text/plain": [
       "(1044, 33)"
      ]
     },
     "execution_count": 9,
     "metadata": {},
     "output_type": "execute_result"
    }
   ],
   "source": [
    "student_df.shape"
   ]
  },
  {
   "cell_type": "code",
   "execution_count": 10,
   "metadata": {},
   "outputs": [
    {
     "data": {
      "text/html": [
       "<div>\n",
       "<style scoped>\n",
       "    .dataframe tbody tr th:only-of-type {\n",
       "        vertical-align: middle;\n",
       "    }\n",
       "\n",
       "    .dataframe tbody tr th {\n",
       "        vertical-align: top;\n",
       "    }\n",
       "\n",
       "    .dataframe thead th {\n",
       "        text-align: right;\n",
       "    }\n",
       "</style>\n",
       "<table border=\"1\" class=\"dataframe\">\n",
       "  <thead>\n",
       "    <tr style=\"text-align: right;\">\n",
       "      <th></th>\n",
       "      <th>age</th>\n",
       "      <th>mother_education</th>\n",
       "      <th>father_education</th>\n",
       "      <th>commute_time</th>\n",
       "      <th>study_time</th>\n",
       "      <th>failures</th>\n",
       "      <th>family_quality</th>\n",
       "      <th>free_time</th>\n",
       "      <th>go_out</th>\n",
       "      <th>weekday_alcohol_usage</th>\n",
       "      <th>weekend_alcohol_usage</th>\n",
       "      <th>health</th>\n",
       "      <th>absences</th>\n",
       "      <th>period1_score</th>\n",
       "      <th>period2_score</th>\n",
       "      <th>final_score</th>\n",
       "    </tr>\n",
       "  </thead>\n",
       "  <tbody>\n",
       "    <tr>\n",
       "      <th>count</th>\n",
       "      <td>1044.000000</td>\n",
       "      <td>1044.000000</td>\n",
       "      <td>1044.000000</td>\n",
       "      <td>1044.000000</td>\n",
       "      <td>1044.000000</td>\n",
       "      <td>1044.000000</td>\n",
       "      <td>1044.000000</td>\n",
       "      <td>1044.000000</td>\n",
       "      <td>1044.000000</td>\n",
       "      <td>1044.000000</td>\n",
       "      <td>1044.000000</td>\n",
       "      <td>1044.000000</td>\n",
       "      <td>1044.000000</td>\n",
       "      <td>1044.000000</td>\n",
       "      <td>1044.000000</td>\n",
       "      <td>1044.000000</td>\n",
       "    </tr>\n",
       "    <tr>\n",
       "      <th>mean</th>\n",
       "      <td>16.726054</td>\n",
       "      <td>2.603448</td>\n",
       "      <td>2.387931</td>\n",
       "      <td>1.522989</td>\n",
       "      <td>1.970307</td>\n",
       "      <td>0.264368</td>\n",
       "      <td>3.935824</td>\n",
       "      <td>3.201149</td>\n",
       "      <td>3.156130</td>\n",
       "      <td>1.494253</td>\n",
       "      <td>2.284483</td>\n",
       "      <td>3.543103</td>\n",
       "      <td>4.434866</td>\n",
       "      <td>11.213602</td>\n",
       "      <td>11.246169</td>\n",
       "      <td>11.341954</td>\n",
       "    </tr>\n",
       "    <tr>\n",
       "      <th>std</th>\n",
       "      <td>1.239975</td>\n",
       "      <td>1.124907</td>\n",
       "      <td>1.099938</td>\n",
       "      <td>0.731727</td>\n",
       "      <td>0.834353</td>\n",
       "      <td>0.656142</td>\n",
       "      <td>0.933401</td>\n",
       "      <td>1.031507</td>\n",
       "      <td>1.152575</td>\n",
       "      <td>0.911714</td>\n",
       "      <td>1.285105</td>\n",
       "      <td>1.424703</td>\n",
       "      <td>6.210017</td>\n",
       "      <td>2.983394</td>\n",
       "      <td>3.285071</td>\n",
       "      <td>3.864796</td>\n",
       "    </tr>\n",
       "    <tr>\n",
       "      <th>min</th>\n",
       "      <td>15.000000</td>\n",
       "      <td>0.000000</td>\n",
       "      <td>0.000000</td>\n",
       "      <td>1.000000</td>\n",
       "      <td>1.000000</td>\n",
       "      <td>0.000000</td>\n",
       "      <td>1.000000</td>\n",
       "      <td>1.000000</td>\n",
       "      <td>1.000000</td>\n",
       "      <td>1.000000</td>\n",
       "      <td>1.000000</td>\n",
       "      <td>1.000000</td>\n",
       "      <td>0.000000</td>\n",
       "      <td>0.000000</td>\n",
       "      <td>0.000000</td>\n",
       "      <td>0.000000</td>\n",
       "    </tr>\n",
       "    <tr>\n",
       "      <th>25%</th>\n",
       "      <td>16.000000</td>\n",
       "      <td>2.000000</td>\n",
       "      <td>1.000000</td>\n",
       "      <td>1.000000</td>\n",
       "      <td>1.000000</td>\n",
       "      <td>0.000000</td>\n",
       "      <td>4.000000</td>\n",
       "      <td>3.000000</td>\n",
       "      <td>2.000000</td>\n",
       "      <td>1.000000</td>\n",
       "      <td>1.000000</td>\n",
       "      <td>3.000000</td>\n",
       "      <td>0.000000</td>\n",
       "      <td>9.000000</td>\n",
       "      <td>9.000000</td>\n",
       "      <td>10.000000</td>\n",
       "    </tr>\n",
       "    <tr>\n",
       "      <th>50%</th>\n",
       "      <td>17.000000</td>\n",
       "      <td>3.000000</td>\n",
       "      <td>2.000000</td>\n",
       "      <td>1.000000</td>\n",
       "      <td>2.000000</td>\n",
       "      <td>0.000000</td>\n",
       "      <td>4.000000</td>\n",
       "      <td>3.000000</td>\n",
       "      <td>3.000000</td>\n",
       "      <td>1.000000</td>\n",
       "      <td>2.000000</td>\n",
       "      <td>4.000000</td>\n",
       "      <td>2.000000</td>\n",
       "      <td>11.000000</td>\n",
       "      <td>11.000000</td>\n",
       "      <td>11.000000</td>\n",
       "    </tr>\n",
       "    <tr>\n",
       "      <th>75%</th>\n",
       "      <td>18.000000</td>\n",
       "      <td>4.000000</td>\n",
       "      <td>3.000000</td>\n",
       "      <td>2.000000</td>\n",
       "      <td>2.000000</td>\n",
       "      <td>0.000000</td>\n",
       "      <td>5.000000</td>\n",
       "      <td>4.000000</td>\n",
       "      <td>4.000000</td>\n",
       "      <td>2.000000</td>\n",
       "      <td>3.000000</td>\n",
       "      <td>5.000000</td>\n",
       "      <td>6.000000</td>\n",
       "      <td>13.000000</td>\n",
       "      <td>13.000000</td>\n",
       "      <td>14.000000</td>\n",
       "    </tr>\n",
       "    <tr>\n",
       "      <th>max</th>\n",
       "      <td>22.000000</td>\n",
       "      <td>4.000000</td>\n",
       "      <td>4.000000</td>\n",
       "      <td>4.000000</td>\n",
       "      <td>4.000000</td>\n",
       "      <td>3.000000</td>\n",
       "      <td>5.000000</td>\n",
       "      <td>5.000000</td>\n",
       "      <td>5.000000</td>\n",
       "      <td>5.000000</td>\n",
       "      <td>5.000000</td>\n",
       "      <td>5.000000</td>\n",
       "      <td>75.000000</td>\n",
       "      <td>19.000000</td>\n",
       "      <td>19.000000</td>\n",
       "      <td>20.000000</td>\n",
       "    </tr>\n",
       "  </tbody>\n",
       "</table>\n",
       "</div>"
      ],
      "text/plain": [
       "               age  mother_education  father_education  commute_time  \\\n",
       "count  1044.000000       1044.000000       1044.000000   1044.000000   \n",
       "mean     16.726054          2.603448          2.387931      1.522989   \n",
       "std       1.239975          1.124907          1.099938      0.731727   \n",
       "min      15.000000          0.000000          0.000000      1.000000   \n",
       "25%      16.000000          2.000000          1.000000      1.000000   \n",
       "50%      17.000000          3.000000          2.000000      1.000000   \n",
       "75%      18.000000          4.000000          3.000000      2.000000   \n",
       "max      22.000000          4.000000          4.000000      4.000000   \n",
       "\n",
       "        study_time     failures  family_quality    free_time       go_out  \\\n",
       "count  1044.000000  1044.000000     1044.000000  1044.000000  1044.000000   \n",
       "mean      1.970307     0.264368        3.935824     3.201149     3.156130   \n",
       "std       0.834353     0.656142        0.933401     1.031507     1.152575   \n",
       "min       1.000000     0.000000        1.000000     1.000000     1.000000   \n",
       "25%       1.000000     0.000000        4.000000     3.000000     2.000000   \n",
       "50%       2.000000     0.000000        4.000000     3.000000     3.000000   \n",
       "75%       2.000000     0.000000        5.000000     4.000000     4.000000   \n",
       "max       4.000000     3.000000        5.000000     5.000000     5.000000   \n",
       "\n",
       "       weekday_alcohol_usage  weekend_alcohol_usage       health     absences  \\\n",
       "count            1044.000000            1044.000000  1044.000000  1044.000000   \n",
       "mean                1.494253               2.284483     3.543103     4.434866   \n",
       "std                 0.911714               1.285105     1.424703     6.210017   \n",
       "min                 1.000000               1.000000     1.000000     0.000000   \n",
       "25%                 1.000000               1.000000     3.000000     0.000000   \n",
       "50%                 1.000000               2.000000     4.000000     2.000000   \n",
       "75%                 2.000000               3.000000     5.000000     6.000000   \n",
       "max                 5.000000               5.000000     5.000000    75.000000   \n",
       "\n",
       "       period1_score  period2_score  final_score  \n",
       "count    1044.000000    1044.000000  1044.000000  \n",
       "mean       11.213602      11.246169    11.341954  \n",
       "std         2.983394       3.285071     3.864796  \n",
       "min         0.000000       0.000000     0.000000  \n",
       "25%         9.000000       9.000000    10.000000  \n",
       "50%        11.000000      11.000000    11.000000  \n",
       "75%        13.000000      13.000000    14.000000  \n",
       "max        19.000000      19.000000    20.000000  "
      ]
     },
     "execution_count": 10,
     "metadata": {},
     "output_type": "execute_result"
    }
   ],
   "source": [
    "student_df.describe()"
   ]
  },
  {
   "cell_type": "code",
   "execution_count": 11,
   "metadata": {},
   "outputs": [
    {
     "data": {
      "text/html": [
       "<div>\n",
       "<style scoped>\n",
       "    .dataframe tbody tr th:only-of-type {\n",
       "        vertical-align: middle;\n",
       "    }\n",
       "\n",
       "    .dataframe tbody tr th {\n",
       "        vertical-align: top;\n",
       "    }\n",
       "\n",
       "    .dataframe thead th {\n",
       "        text-align: right;\n",
       "    }\n",
       "</style>\n",
       "<table border=\"1\" class=\"dataframe\">\n",
       "  <thead>\n",
       "    <tr style=\"text-align: right;\">\n",
       "      <th></th>\n",
       "      <th>school</th>\n",
       "      <th>sex</th>\n",
       "      <th>age</th>\n",
       "      <th>address</th>\n",
       "      <th>family_size</th>\n",
       "      <th>parents_status</th>\n",
       "      <th>mother_education</th>\n",
       "      <th>father_education</th>\n",
       "      <th>mother_job</th>\n",
       "      <th>father_job</th>\n",
       "      <th>...</th>\n",
       "      <th>free_time</th>\n",
       "      <th>go_out</th>\n",
       "      <th>weekday_alcohol_usage</th>\n",
       "      <th>weekend_alcohol_usage</th>\n",
       "      <th>health</th>\n",
       "      <th>absences</th>\n",
       "      <th>period1_score</th>\n",
       "      <th>period2_score</th>\n",
       "      <th>final_score</th>\n",
       "      <th>final_grade</th>\n",
       "    </tr>\n",
       "  </thead>\n",
       "  <tbody>\n",
       "    <tr>\n",
       "      <th>0</th>\n",
       "      <td>GP</td>\n",
       "      <td>F</td>\n",
       "      <td>18</td>\n",
       "      <td>U</td>\n",
       "      <td>GT3</td>\n",
       "      <td>A</td>\n",
       "      <td>4</td>\n",
       "      <td>4</td>\n",
       "      <td>at_home</td>\n",
       "      <td>teacher</td>\n",
       "      <td>...</td>\n",
       "      <td>3</td>\n",
       "      <td>4</td>\n",
       "      <td>1</td>\n",
       "      <td>1</td>\n",
       "      <td>3</td>\n",
       "      <td>6</td>\n",
       "      <td>5</td>\n",
       "      <td>6</td>\n",
       "      <td>6</td>\n",
       "      <td>poor</td>\n",
       "    </tr>\n",
       "    <tr>\n",
       "      <th>1</th>\n",
       "      <td>GP</td>\n",
       "      <td>F</td>\n",
       "      <td>17</td>\n",
       "      <td>U</td>\n",
       "      <td>GT3</td>\n",
       "      <td>T</td>\n",
       "      <td>1</td>\n",
       "      <td>1</td>\n",
       "      <td>at_home</td>\n",
       "      <td>other</td>\n",
       "      <td>...</td>\n",
       "      <td>3</td>\n",
       "      <td>3</td>\n",
       "      <td>1</td>\n",
       "      <td>1</td>\n",
       "      <td>3</td>\n",
       "      <td>4</td>\n",
       "      <td>5</td>\n",
       "      <td>5</td>\n",
       "      <td>6</td>\n",
       "      <td>poor</td>\n",
       "    </tr>\n",
       "    <tr>\n",
       "      <th>2</th>\n",
       "      <td>GP</td>\n",
       "      <td>F</td>\n",
       "      <td>15</td>\n",
       "      <td>U</td>\n",
       "      <td>LE3</td>\n",
       "      <td>T</td>\n",
       "      <td>1</td>\n",
       "      <td>1</td>\n",
       "      <td>at_home</td>\n",
       "      <td>other</td>\n",
       "      <td>...</td>\n",
       "      <td>3</td>\n",
       "      <td>2</td>\n",
       "      <td>2</td>\n",
       "      <td>3</td>\n",
       "      <td>3</td>\n",
       "      <td>10</td>\n",
       "      <td>7</td>\n",
       "      <td>8</td>\n",
       "      <td>10</td>\n",
       "      <td>fair</td>\n",
       "    </tr>\n",
       "    <tr>\n",
       "      <th>3</th>\n",
       "      <td>GP</td>\n",
       "      <td>F</td>\n",
       "      <td>15</td>\n",
       "      <td>U</td>\n",
       "      <td>GT3</td>\n",
       "      <td>T</td>\n",
       "      <td>4</td>\n",
       "      <td>2</td>\n",
       "      <td>health</td>\n",
       "      <td>services</td>\n",
       "      <td>...</td>\n",
       "      <td>2</td>\n",
       "      <td>2</td>\n",
       "      <td>1</td>\n",
       "      <td>1</td>\n",
       "      <td>5</td>\n",
       "      <td>2</td>\n",
       "      <td>15</td>\n",
       "      <td>14</td>\n",
       "      <td>15</td>\n",
       "      <td>good</td>\n",
       "    </tr>\n",
       "    <tr>\n",
       "      <th>4</th>\n",
       "      <td>GP</td>\n",
       "      <td>F</td>\n",
       "      <td>16</td>\n",
       "      <td>U</td>\n",
       "      <td>GT3</td>\n",
       "      <td>T</td>\n",
       "      <td>3</td>\n",
       "      <td>3</td>\n",
       "      <td>other</td>\n",
       "      <td>other</td>\n",
       "      <td>...</td>\n",
       "      <td>3</td>\n",
       "      <td>2</td>\n",
       "      <td>1</td>\n",
       "      <td>2</td>\n",
       "      <td>5</td>\n",
       "      <td>4</td>\n",
       "      <td>6</td>\n",
       "      <td>10</td>\n",
       "      <td>10</td>\n",
       "      <td>fair</td>\n",
       "    </tr>\n",
       "  </tbody>\n",
       "</table>\n",
       "<p>5 rows × 34 columns</p>\n",
       "</div>"
      ],
      "text/plain": [
       "  school sex  age address family_size parents_status  mother_education  \\\n",
       "0     GP   F   18       U         GT3              A                 4   \n",
       "1     GP   F   17       U         GT3              T                 1   \n",
       "2     GP   F   15       U         LE3              T                 1   \n",
       "3     GP   F   15       U         GT3              T                 4   \n",
       "4     GP   F   16       U         GT3              T                 3   \n",
       "\n",
       "   father_education mother_job father_job  ... free_time go_out  \\\n",
       "0                 4    at_home    teacher  ...         3      4   \n",
       "1                 1    at_home      other  ...         3      3   \n",
       "2                 1    at_home      other  ...         3      2   \n",
       "3                 2     health   services  ...         2      2   \n",
       "4                 3      other      other  ...         3      2   \n",
       "\n",
       "   weekday_alcohol_usage  weekend_alcohol_usage  health absences  \\\n",
       "0                      1                      1       3        6   \n",
       "1                      1                      1       3        4   \n",
       "2                      2                      3       3       10   \n",
       "3                      1                      1       5        2   \n",
       "4                      1                      2       5        4   \n",
       "\n",
       "  period1_score period2_score final_score final_grade  \n",
       "0             5             6           6        poor  \n",
       "1             5             5           6        poor  \n",
       "2             7             8          10        fair  \n",
       "3            15            14          15        good  \n",
       "4             6            10          10        fair  \n",
       "\n",
       "[5 rows x 34 columns]"
      ]
     },
     "execution_count": 11,
     "metadata": {},
     "output_type": "execute_result"
    }
   ],
   "source": [
    "# convert final_score to categorical variable # Good:15~20 Fair:10~14 Poor:0~9\n",
    "student_df['final_grade'] = 'na'\n",
    "student_df.loc[(student_df.final_score >= 15) & (student_df.final_score <= 20), 'final_grade'] = 'good' \n",
    "student_df.loc[(student_df.final_score >= 10) & (student_df.final_score <= 14), 'final_grade'] = 'fair' \n",
    "student_df.loc[(student_df.final_score >= 0) & (student_df.final_score <= 9), 'final_grade'] = 'poor' \n",
    "student_df.head(5)"
   ]
  },
  {
   "cell_type": "markdown",
   "metadata": {},
   "source": [
    "I have classified these students into three categories, \"good\", \"fair\", and \"poor\", according to their final exam performance."
   ]
  },
  {
   "cell_type": "code",
   "execution_count": 12,
   "metadata": {},
   "outputs": [
    {
     "data": {
      "text/plain": [
       "Text(0, 0.5, 'Number of Student')"
      ]
     },
     "execution_count": 12,
     "metadata": {},
     "output_type": "execute_result"
    },
    {
     "data": {
      "image/png": "[encoded data removed]",
      "text/plain": [
       "<Figure size 576x432 with 1 Axes>"
      ]
     },
     "metadata": {
      "needs_background": "light"
     },
     "output_type": "display_data"
    }
   ],
   "source": [
    "# Final Grade Countplot\n",
    "plt.figure(figsize=(8,6))\n",
    "sns.countplot(student_df.final_grade, order=[\"poor\",\"fair\",\"good\"], palette='Set1')\n",
    "plt.title('Performace of students',fontsize=20)\n",
    "plt.xlabel('Final Grade', fontsize=16)\n",
    "plt.ylabel('Number of Student', fontsize=16)"
   ]
  },
  {
   "cell_type": "code",
   "execution_count": 13,
   "metadata": {},
   "outputs": [
    {
     "data": {
      "text/plain": [
       "Text(0.5, 1, 'Correlation Heatmap')"
      ]
     },
     "execution_count": 13,
     "metadata": {},
     "output_type": "execute_result"
    },
    {
     "data": {
      "image/png": "[encoded data removed]",
      "text/plain": [
       "<Figure size 720x720 with 2 Axes>"
      ]
     },
     "metadata": {
      "needs_background": "light"
     },
     "output_type": "display_data"
    }
   ],
   "source": [
    "# see correlation between variables through a correlation heatmap\n",
    "corr = student_df.corr()\n",
    "plt.figure(figsize=(10,10))\n",
    "sns.heatmap(corr, annot=True)\n",
    "plt.title('Correlation Heatmap', fontsize=20)"
   ]
  },
  {
   "cell_type": "code",
   "execution_count": 14,
   "metadata": {},
   "outputs": [
    {
     "data": {
      "text/plain": [
       "Text(0.5, 1.0, 'In a romantic relationship')"
      ]
     },
     "execution_count": 14,
     "metadata": {},
     "output_type": "execute_result"
    },
    {
     "data": {
      "image/png": "[encoded data removed]",
      "text/plain": [
       "<Figure size 288x288 with 1 Axes>"
      ]
     },
     "metadata": {},
     "output_type": "display_data"
    }
   ],
   "source": [
    "f, ax = plt.subplots(figsize=(4, 4))\n",
    "\n",
    "plt.pie(student_df['romantic'].value_counts().tolist(), \n",
    "        labels=['No', 'Yes'], autopct='%1.1f%%', startangle=90)\n",
    "axis = plt.axis('equal')\n",
    "plt.title('In a romantic relationship')"
   ]
  },
  {
   "cell_type": "code",
   "execution_count": 15,
   "metadata": {},
   "outputs": [],
   "source": [
    "perc = (lambda col: col/col.sum())\n",
    "index = ['poor','fair','good']\n",
    "romance = pd.crosstab(index=student_df.final_grade, columns=student_df.romantic)\n",
    "romance1 = np.log(romance)\n",
    "romance_percentage = romance1.apply(perc).reindex(index)"
   ]
  },
  {
   "cell_type": "code",
   "execution_count": 16,
   "metadata": {},
   "outputs": [
    {
     "data": {
      "text/plain": [
       "<Figure size 432x288 with 0 Axes>"
      ]
     },
     "metadata": {},
     "output_type": "display_data"
    },
    {
     "data": {
      "image/png": "[encoded data removed]",
      "text/plain": [
       "<Figure size 576x576 with 1 Axes>"
      ]
     },
     "metadata": {
      "needs_background": "light"
     },
     "output_type": "display_data"
    }
   ],
   "source": [
    "plt.figure()\n",
    "romance_percentage.plot.bar(fontsize=16, figsize=(8,8))\n",
    "plt.title('Final Grade By Romantic Status', fontsize=20)\n",
    "plt.ylabel('number of Student ', fontsize=16)\n",
    "plt.xlabel('Final Grade', fontsize=16)\n",
    "plt.show()"
   ]
  },
  {
   "cell_type": "code",
   "execution_count": 17,
   "metadata": {},
   "outputs": [
    {
     "data": {
      "image/png": "[encoded data removed]",
      "text/plain": [
       "<Figure size 432x288 with 1 Axes>"
      ]
     },
     "metadata": {
      "needs_background": "light"
     },
     "output_type": "display_data"
    }
   ],
   "source": [
    "#Weekday alchohol consumption\n",
    "dalc = student_df['weekday_alcohol_usage']\n",
    "dalc= dalc.reset_index()\n",
    "dalc.rename(columns={0:'count'}, inplace=True)\n",
    "dalc.columns = ['ID','Workday alcohol']\n",
    "f, ax = plt.subplots()\n",
    "figure = sns.countplot(x = 'Workday alcohol', data=dalc, order=list(range(1, 6)), color = 'blue')\n",
    "figure.grid(False)\n",
    "\n",
    "ax = ax.set(ylabel=\"Count\", xlabel=\"Workday Alcohol Consumption\")"
   ]
  },
  {
   "cell_type": "code",
   "execution_count": 18,
   "metadata": {},
   "outputs": [
    {
     "data": {
      "image/png": "[encoded data removed]",
      "text/plain": [
       "<Figure size 432x288 with 1 Axes>"
      ]
     },
     "metadata": {
      "needs_background": "light"
     },
     "output_type": "display_data"
    }
   ],
   "source": [
    "#Weekend Alchohol consumption\n",
    "walc = student_df['weekend_alcohol_usage']\n",
    "walc= walc.reset_index()\n",
    "walc.rename(columns={0:'count'}, inplace=True)\n",
    "walc.columns = ['ID','Weekend alcohol']\n",
    "f, ax = plt.subplots()\n",
    "figure = sns.countplot(x = 'Weekend alcohol', data=walc, order=list(range(1, 6)), color = 'blue')\n",
    "ax = ax.set(ylabel=\"Count\", xlabel=\"Weekend Alcohol Consumption\")\n",
    "plt.title('Student Weekend Alcohol Consumption', fontsize=20)\n",
    "figure.grid(False)\n"
   ]
  },
  {
   "cell_type": "code",
   "execution_count": 19,
   "metadata": {},
   "outputs": [],
   "source": [
    "# weekend alcohol consumption\n",
    "alchohol_tab1 = pd.crosstab(index=student_df.final_grade, columns=student_df.weekend_alcohol_usage)\n",
    "alchohol_tab = np.log(alchohol_tab1)\n",
    "alc_perc = alchohol_tab.apply(perc).reindex(index)"
   ]
  },
  {
   "cell_type": "code",
   "execution_count": 20,
   "metadata": {},
   "outputs": [
    {
     "name": "stderr",
     "output_type": "stream",
     "text": [
      "C:\\Users\\rosan\\Anaconda3\\lib\\site-packages\\ipykernel_launcher.py:3: SettingWithCopyWarning: \n",
      "A value is trying to be set on a copy of a slice from a DataFrame.\n",
      "Try using .loc[row_indexer,col_indexer] = value instead\n",
      "\n",
      "See the caveats in the documentation: http://pandas.pydata.org/pandas-docs/stable/indexing.html#indexing-view-versus-copy\n",
      "  This is separate from the ipykernel package so we can avoid doing imports until\n",
      "C:\\Users\\rosan\\Anaconda3\\lib\\site-packages\\ipykernel_launcher.py:6: SettingWithCopyWarning: \n",
      "A value is trying to be set on a copy of a slice from a DataFrame.\n",
      "Try using .loc[row_indexer,col_indexer] = value instead\n",
      "\n",
      "See the caveats in the documentation: http://pandas.pydata.org/pandas-docs/stable/indexing.html#indexing-view-versus-copy\n",
      "  \n"
     ]
    },
    {
     "data": {
      "text/plain": [
       "Text(0.5, 0, 'Level of Alcohol Consumption')"
      ]
     },
     "execution_count": 20,
     "metadata": {},
     "output_type": "execute_result"
    },
    {
     "data": {
      "image/png": "[encoded data removed]",
      "text/plain": [
       "<Figure size 720x432 with 1 Axes>"
      ]
     },
     "metadata": {
      "needs_background": "light"
     },
     "output_type": "display_data"
    }
   ],
   "source": [
    "# create good student dataframe\n",
    "good = student_df.loc[student_df.final_grade == 'good']\n",
    "good['good_performance']=good.weekend_alcohol_usage\n",
    "# create poor student dataframe\n",
    "poor = student_df.loc[student_df.final_grade == 'poor']\n",
    "poor['poor_performance']=poor.weekend_alcohol_usage\n",
    "\n",
    "plt.figure(figsize=(10,6))\n",
    "p1=sns.kdeplot(good['good_performance'], shade=True, color=\"r\")\n",
    "p1=sns.kdeplot(poor['poor_performance'], shade=True, color=\"b\")\n",
    "plt.title('Good Performance vs. Poor Performance Student Weekend Alcohol Consumption', fontsize=20)\n",
    "plt.ylabel('Number of students', fontsize=16)\n",
    "plt.xlabel('Level of Alcohol Consumption', fontsize=16)"
   ]
  },
  {
   "cell_type": "code",
   "execution_count": 21,
   "metadata": {},
   "outputs": [
    {
     "data": {
      "text/plain": [
       "Text(0.5, 0, 'Final Grade')"
      ]
     },
     "execution_count": 21,
     "metadata": {},
     "output_type": "execute_result"
    },
    {
     "data": {
      "image/png": "[encoded data removed]",
      "text/plain": [
       "<Figure size 1008x432 with 1 Axes>"
      ]
     },
     "metadata": {
      "needs_background": "light"
     },
     "output_type": "display_data"
    }
   ],
   "source": [
    "# going out with friends (numeric: from 1 - very low to 5 - very high)\n",
    "out_tab = pd.crosstab(index=student_df.final_grade, columns=student_df.go_out)\n",
    "out_perc = out_tab.apply(perc).reindex(index)\n",
    "\n",
    "out_perc.plot.bar(colormap=\"mako_r\", fontsize=16, figsize=(14,6))\n",
    "plt.title('Final Grade By Frequency of Going Out', fontsize=20)\n",
    "plt.ylabel('Percentage of Student', fontsize=16)\n",
    "plt.xlabel('Final Grade', fontsize=16)"
   ]
  },
  {
   "cell_type": "code",
   "execution_count": 22,
   "metadata": {},
   "outputs": [],
   "source": [
    "higher_tab = pd.crosstab(index=student_df.final_grade, columns=student_df.desire_higher_edu)\n",
    "higher_perc = higher_tab.apply(perc).reindex(index)"
   ]
  },
  {
   "cell_type": "code",
   "execution_count": 23,
   "metadata": {},
   "outputs": [
    {
     "data": {
      "text/plain": [
       "Text(0, 0.5, 'Percentage of Student')"
      ]
     },
     "execution_count": 23,
     "metadata": {},
     "output_type": "execute_result"
    },
    {
     "data": {
      "image/png": "[encoded data removed]",
      "text/plain": [
       "<Figure size 1008x432 with 1 Axes>"
      ]
     },
     "metadata": {
      "needs_background": "light"
     },
     "output_type": "display_data"
    }
   ],
   "source": [
    "higher_perc.plot.bar(figsize=(14,6), fontsize=16)\n",
    "plt.title('Final Grade By Desire to Receive Higher Education', fontsize=20)\n",
    "plt.xlabel('Final Grade', fontsize=16)\n",
    "plt.ylabel('Percentage of Student', fontsize=16)"
   ]
  },
  {
   "cell_type": "markdown",
   "metadata": {},
   "source": [
    "Feature Engineering"
   ]
  },
  {
   "cell_type": "code",
   "execution_count": 24,
   "metadata": {},
   "outputs": [],
   "source": [
    "# This will be our transformed dataframes\n",
    "mathTransformed = math_df.copy(deep=True)\n",
    "portTransformed = Portuguese_df.copy(deep=True)"
   ]
  },
  {
   "cell_type": "code",
   "execution_count": 25,
   "metadata": {},
   "outputs": [],
   "source": [
    "def returnCategoricalColumns(df):\n",
    "    '''\n",
    "    This function takes in a dataframe and returns the \n",
    "    column names which are categorical / must be labeled\n",
    "    numerically for training.\n",
    "    '''\n",
    "    columns = []\n",
    "    for i in list(df):\n",
    "        if not str(math_df[i][0]).isdigit():\n",
    "            columns.append(i)\n",
    "    return columns"
   ]
  },
  {
   "cell_type": "code",
   "execution_count": 26,
   "metadata": {},
   "outputs": [],
   "source": [
    "def getBinaryAndNominalColumns(df, categoricalColumns):\n",
    "    '''\n",
    "    This function takes a list of categorical columns\n",
    "    and separates into a list of binary columns, which\n",
    "    we can easily one label encode into 0/1 and \n",
    "    nominal columns which we will need to one hot vector\n",
    "    encode.\n",
    "    '''\n",
    "    binary = []\n",
    "    nominal = []\n",
    "    for i in categoricalColumns:\n",
    "        if len(list(set(df[i]))) == 2:\n",
    "            binary.append(i)\n",
    "        else:\n",
    "            nominal.append(i)\n",
    "    return binary, nominal"
   ]
  },
  {
   "cell_type": "code",
   "execution_count": 27,
   "metadata": {},
   "outputs": [
    {
     "name": "stdout",
     "output_type": "stream",
     "text": [
      "['school', 'sex', 'address', 'famsize', 'Pstatus', 'Mjob', 'Fjob', 'reason', 'guardian', 'schoolsup', 'famsup', 'paid', 'activities', 'nursery', 'higher', 'internet', 'romantic']\n"
     ]
    }
   ],
   "source": [
    "# categorical columns are the same for both portuguesse and math\n",
    "assert(returnCategoricalColumns(math_df) == returnCategoricalColumns(Portuguese_df))\n",
    "categoricalColumns = returnCategoricalColumns(math_df)\n",
    "print(categoricalColumns)"
   ]
  },
  {
   "cell_type": "code",
   "execution_count": 28,
   "metadata": {},
   "outputs": [
    {
     "name": "stdout",
     "output_type": "stream",
     "text": [
      "['school', 'sex', 'address', 'famsize', 'Pstatus', 'schoolsup', 'famsup', 'paid', 'activities', 'nursery', 'higher', 'internet', 'romantic']\n",
      "['Mjob', 'Fjob', 'reason', 'guardian']\n"
     ]
    }
   ],
   "source": [
    "binary, nominal = getBinaryAndNominalColumns(math_df, categoricalColumns)\n",
    "print(binary)\n",
    "print(nominal)"
   ]
  },
  {
   "cell_type": "code",
   "execution_count": 29,
   "metadata": {},
   "outputs": [],
   "source": [
    "def convertBinaryColumns(df, binary, transformed_df):\n",
    "    '''\n",
    "    This function converts the binary columns in our dataframe\n",
    "    into numerical (0/1) labels and adds a corresponding\n",
    "    column to transformed_df\n",
    "    '''\n",
    "    for i in binary:\n",
    "        lb_style = LabelBinarizer()\n",
    "        lb_results = lb_style.fit_transform(df[i])\n",
    "        transformed_df[i] = lb_results"
   ]
  },
  {
   "cell_type": "code",
   "execution_count": 30,
   "metadata": {},
   "outputs": [],
   "source": [
    "convertBinaryColumns(math_df, binary, mathTransformed)\n",
    "convertBinaryColumns(Portuguese_df, binary, portTransformed)"
   ]
  },
  {
   "cell_type": "code",
   "execution_count": 31,
   "metadata": {},
   "outputs": [],
   "source": [
    "assert(list(portTransformed) == list(Portuguese_df))\n",
    "assert(list(mathTransformed) == list(math_df))"
   ]
  },
  {
   "cell_type": "code",
   "execution_count": 32,
   "metadata": {},
   "outputs": [],
   "source": [
    "# One hot vector encode nominal variables\n",
    "mathTransformed = pd.get_dummies(mathTransformed, columns=nominal)\n",
    "portTransformed = pd.get_dummies(portTransformed, columns=nominal)"
   ]
  },
  {
   "cell_type": "code",
   "execution_count": 33,
   "metadata": {},
   "outputs": [],
   "source": [
    "assert(list(portTransformed) == list(mathTransformed))"
   ]
  },
  {
   "cell_type": "code",
   "execution_count": 34,
   "metadata": {},
   "outputs": [],
   "source": [
    "for i in list(mathTransformed):\n",
    "    if not str(mathTransformed[i][0]).isdigit() or not str(portTransformed[i][0]).isdigit():\n",
    "        assert(False)"
   ]
  },
  {
   "cell_type": "code",
   "execution_count": 35,
   "metadata": {},
   "outputs": [],
   "source": [
    "targetColumn = ['G3']\n",
    "featureColumns = [i for i in list(portTransformed) if i not in targetColumn]\n",
    "featureColumnsNoGrades = [i for i in featureColumns if i not in ['G1', 'G2']]\n",
    "assert(len(featureColumns) == len(featureColumnsNoGrades)+2)"
   ]
  },
  {
   "cell_type": "code",
   "execution_count": 36,
   "metadata": {},
   "outputs": [],
   "source": [
    "portX = portTransformed[featureColumns]\n",
    "portXNoGrades = portTransformed[featureColumnsNoGrades]\n",
    "mathX = mathTransformed[featureColumns]\n",
    "mathXNoGrades = mathTransformed[featureColumnsNoGrades]\n",
    "portY = portTransformed[targetColumn]\n",
    "mathY = mathTransformed[targetColumn]\n"
   ]
  },
  {
   "cell_type": "markdown",
   "metadata": {},
   "source": [
    "Linear Regression"
   ]
  },
  {
   "cell_type": "code",
   "execution_count": 37,
   "metadata": {},
   "outputs": [],
   "source": [
    "def linearRegression(originalDf, targetColumn, featureColumns):\n",
    "    '''\n",
    "    Runs unregularized linear regression and returns the \n",
    "    R^2 and mean squared error (averaged over all folds \n",
    "    via cross validation)\n",
    "    '''\n",
    "    lm = linear_model.LinearRegression(normalize=True)\n",
    "    X = originalDf[featureColumns]\n",
    "    y = originalDf[targetColumn]\n",
    "    scores = cross_validate(lm, X, y, scoring=['r2','neg_mean_squared_error'], cv=10, return_train_score=False)\n",
    "    return lm, scores"
   ]
  },
  {
   "cell_type": "code",
   "execution_count": 38,
   "metadata": {},
   "outputs": [],
   "source": [
    "def linearRegressionRidge(originalDf, targetColumn, featureColumns):\n",
    "    '''\n",
    "    Runs ridge regularized linear regression and returns the \n",
    "    mean and standard deviation of test scores\n",
    "    '''\n",
    "    parameters = {'alpha' : np.arange(0.0001, 0.01, 0.01)}\n",
    "    scoringMethods = ['r2','neg_mean_squared_error']\n",
    "    test_scores = []\n",
    "    lm = linear_model.Ridge(normalize=True)\n",
    "    for score in scoringMethods:\n",
    "        X = originalDf[featureColumns]\n",
    "        y = originalDf[targetColumn]\n",
    "        clf = GridSearchCV(lm, parameters, cv=10, scoring=score)\n",
    "        clf.fit(X,y)\n",
    "        test_scores.append(clf.cv_results_['mean_test_score'])\n",
    "    return clf.best_estimator_, test_scores"
   ]
  },
  {
   "cell_type": "code",
   "execution_count": 39,
   "metadata": {},
   "outputs": [],
   "source": [
    "def linearRegressionLasso(originalDf, targetColumn, featureColumns):\n",
    "    '''\n",
    "    Runs lasso regularized linear regression and returns the \n",
    "    mean and standard deviation of test scores\n",
    "    '''\n",
    "    parameters =  {'alpha' : np.arange(0.0001, 0.1, 0.01)}\n",
    "    scoringMethods = ['r2','neg_mean_squared_error']\n",
    "    test_scores = []\n",
    "    lm = linear_model.Lasso(normalize=True)\n",
    "    for score in scoringMethods:\n",
    "        X = originalDf[featureColumns]\n",
    "        y = originalDf[targetColumn]\n",
    "        clf = GridSearchCV(lm, parameters, cv=10, scoring=score)\n",
    "        clf.fit(X,y)\n",
    "        test_scores.append(clf.cv_results_['mean_test_score'])\n",
    "    return clf.best_estimator_, test_scores"
   ]
  },
  {
   "cell_type": "code",
   "execution_count": 40,
   "metadata": {},
   "outputs": [],
   "source": [
    "def returnAttributesWithLargestCoefficients(training, testing, model):\n",
    "    '''\n",
    "    This methods takes in a model and a training testing. It fits\n",
    "    the model and then returns the attributes with their corresponding\n",
    "    coefficient, ordered from largest to smallest.\n",
    "    '''\n",
    "    model.fit(training, testing)\n",
    "    coefficients = model.coef_[0]\n",
    "    finalLst = []\n",
    "    attributes = list(training)\n",
    "    assert(len(attributes) == len(coefficients))\n",
    "    for i in range(len(attributes)):\n",
    "        finalLst.append([attributes[i], coefficients[i]])\n",
    "    finalLst.sort(key = lambda x: abs(x[1]), reverse=True)\n",
    "    return finalLst"
   ]
  },
  {
   "cell_type": "code",
   "execution_count": 41,
   "metadata": {},
   "outputs": [],
   "source": [
    "#with grades\n",
    "def runLinearRegression(df, targetColumn, featureColumns):\n",
    "    '''\n",
    "    This function runs all the linear regression models on the specific\n",
    "    dataset using specified target and feature columns and returns back\n",
    "    the scores as a list of tuples (a,b, c) where a corresponds to the model, \n",
    "    b corresponds to the R^2 scores and c corresponds to the mean squared errors\n",
    "    (over all runs).\n",
    "    '''\n",
    "    unregularized_lm, unregularized = linearRegression(df, targetColumn, featureColumns)\n",
    "    ridge_lm, ridge = linearRegressionRidge(df, targetColumn, featureColumns)\n",
    "    lasso_lm, lasso = linearRegressionLasso(df, targetColumn, featureColumns)\n",
    "    return [[unregularized_lm, unregularized['test_r2'], unregularized['test_neg_mean_squared_error']],\n",
    "            [ridge_lm, ridge[0], ridge[1]],\n",
    "            [lasso_lm, lasso[0], lasso[1]]]"
   ]
  },
  {
   "cell_type": "code",
   "execution_count": 42,
   "metadata": {},
   "outputs": [
    {
     "name": "stderr",
     "output_type": "stream",
     "text": [
      "C:\\Users\\rosan\\Anaconda3\\lib\\site-packages\\sklearn\\model_selection\\_search.py:813: DeprecationWarning: The default of the `iid` parameter will change from True to False in version 0.22 and will be removed in 0.24. This will change numeric results when test-set sizes are unequal.\n",
      "  DeprecationWarning)\n",
      "C:\\Users\\rosan\\Anaconda3\\lib\\site-packages\\sklearn\\model_selection\\_search.py:813: DeprecationWarning: The default of the `iid` parameter will change from True to False in version 0.22 and will be removed in 0.24. This will change numeric results when test-set sizes are unequal.\n",
      "  DeprecationWarning)\n"
     ]
    }
   ],
   "source": [
    "#Portuguese with grades\n",
    "unregularized, ridge, lasso = runLinearRegression(portTransformed, targetColumn, featureColumns)"
   ]
  },
  {
   "cell_type": "code",
   "execution_count": 43,
   "metadata": {},
   "outputs": [
    {
     "name": "stdout",
     "output_type": "stream",
     "text": [
      "Unregularized accuracy: 0.80 (+/- 0.18)\n",
      "Unregularized accuracy: -1.80 (+/- 2.94)\n",
      "Ridge accuracy: 0.80 (+/- 0.00)\n",
      "Ridge accuracy: -1.79 (+/- 0.00)\n",
      "Lasso accuracy: 0.64 (+/- 0.36)\n",
      "Lasso accuracy: -3.50 (+/- 3.39)\n"
     ]
    }
   ],
   "source": [
    "print(\"Unregularized accuracy: %0.2f (+/- %0.2f)\" % (unregularized[1].mean(), unregularized[1].std() * 2))\n",
    "print(\"Unregularized accuracy: %0.2f (+/- %0.2f)\" % (unregularized[2].mean(), unregularized[2].std() * 2))\n",
    "print(\"Ridge accuracy: %0.2f (+/- %0.2f)\" % (ridge[1].mean(), ridge[1].std() * 2))\n",
    "print(\"Ridge accuracy: %0.2f (+/- %0.2f)\" % (ridge[2].mean(), ridge[2].std() * 2))\n",
    "print(\"Lasso accuracy: %0.2f (+/- %0.2f)\" % (lasso[1].mean(), lasso[1].std() * 2))\n",
    "print(\"Lasso accuracy: %0.2f (+/- %0.2f)\" % (lasso[2].mean(), lasso[2].std() * 2))"
   ]
  },
  {
   "cell_type": "code",
   "execution_count": 44,
   "metadata": {},
   "outputs": [],
   "source": [
    "unregularized_coeffs = returnAttributesWithLargestCoefficients(portX, portY, unregularized[0])\n",
    "ridge_coeffs = returnAttributesWithLargestCoefficients(portX, portY, ridge[0])"
   ]
  },
  {
   "cell_type": "code",
   "execution_count": 45,
   "metadata": {},
   "outputs": [
    {
     "data": {
      "text/plain": [
       "[['G2', 0.8700415607180527],\n",
       " ['Fjob_at_home', 0.37292981015346693],\n",
       " ['failures', -0.2550523019767029],\n",
       " ['reason_other', -0.2482872212585313],\n",
       " ['higher', 0.20758855752927924],\n",
       " ['Mjob_health', 0.20315245237877697],\n",
       " ['guardian_other', 0.20041083177326707],\n",
       " ['school', -0.19796090031284982],\n",
       " ['paid', -0.19158305067981585],\n",
       " ['schoolsup', -0.18417552753028282],\n",
       " ['Fjob_teacher', -0.1706094887127026],\n",
       " ['Mjob_teacher', 0.15837018042106024],\n",
       " ['Mjob_other', -0.15618339466489956],\n",
       " ['traveltime', 0.13856144624437502],\n",
       " ['G1', 0.12960047102288144],\n",
       " ['sex', -0.12259524750553384],\n",
       " ['address', 0.11448048372067382],\n",
       " ['reason_course', 0.11348888586246413],\n",
       " ['Mjob_services', 0.1098243205209091],\n",
       " ['Fjob_services', -0.09830608411345644],\n",
       " ['Pstatus', -0.09741052106238945],\n",
       " ['nursery', -0.09560985105782967],\n",
       " ['famsup', 0.09454353948941709],\n",
       " ['Medu', -0.0916461883645307],\n",
       " ['internet', 0.08520051249193794],\n",
       " ['Fjob_health', -0.07123341052983787],\n",
       " ['Mjob_at_home', -0.06264054516113944],\n",
       " ['reason_reputation', -0.05580475784435732],\n",
       " ['health', -0.05523921832341763],\n",
       " ['Dalc', -0.05193990233454078],\n",
       " ['freetime', -0.05002642375503463],\n",
       " ['studytime', 0.04965062775974798],\n",
       " ['Fedu', 0.04961377962718099],\n",
       " ['romantic', -0.04217797192212848],\n",
       " ['guardian_mother', -0.04204442053253075],\n",
       " ['Fjob_other', 0.03488577149339529],\n",
       " ['reason_home', 0.03462319420103561],\n",
       " ['age', 0.028739971698653322],\n",
       " ['goout', -0.018902115135270518],\n",
       " ['Walc', -0.016943479161042913],\n",
       " ['guardian_father', -0.016927316756924143],\n",
       " ['famrel', -0.01591703211836174],\n",
       " ['famsize', 0.015609548150499425],\n",
       " ['absences', 0.013591099920528274],\n",
       " ['activities', 0.012079894615601912]]"
      ]
     },
     "execution_count": 45,
     "metadata": {},
     "output_type": "execute_result"
    }
   ],
   "source": [
    "ridge_coeffs"
   ]
  },
  {
   "cell_type": "code",
   "execution_count": 46,
   "metadata": {},
   "outputs": [
    {
     "data": {
      "image/png": "[encoded data removed]",
      "text/plain": [
       "<Figure size 432x288 with 1 Axes>"
      ]
     },
     "metadata": {
      "needs_background": "light"
     },
     "output_type": "display_data"
    }
   ],
   "source": [
    "x = []\n",
    "y = []\n",
    "for i in range(15)[::-1]:\n",
    "    x.append(ridge_coeffs[i][0])\n",
    "    y.append(abs(ridge_coeffs[i][1]))\n",
    "fig, ax = plt.subplots(1,1)\n",
    "plt.barh(range(len(y)), y, align='center')\n",
    "plt.title(\"Ridge absolute coefficients for Portuguese\")\n",
    "plt.yticks(range(len(y)), x)\n",
    "ax.grid(False)"
   ]
  },
  {
   "cell_type": "code",
   "execution_count": 47,
   "metadata": {},
   "outputs": [
    {
     "name": "stderr",
     "output_type": "stream",
     "text": [
      "C:\\Users\\rosan\\Anaconda3\\lib\\site-packages\\sklearn\\model_selection\\_search.py:813: DeprecationWarning: The default of the `iid` parameter will change from True to False in version 0.22 and will be removed in 0.24. This will change numeric results when test-set sizes are unequal.\n",
      "  DeprecationWarning)\n",
      "C:\\Users\\rosan\\Anaconda3\\lib\\site-packages\\sklearn\\model_selection\\_search.py:813: DeprecationWarning: The default of the `iid` parameter will change from True to False in version 0.22 and will be removed in 0.24. This will change numeric results when test-set sizes are unequal.\n",
      "  DeprecationWarning)\n"
     ]
    }
   ],
   "source": [
    "unregularized, ridge, lasso = runLinearRegression(portTransformed, ['G3'], ['G2', 'G1'])"
   ]
  },
  {
   "cell_type": "code",
   "execution_count": 48,
   "metadata": {},
   "outputs": [
    {
     "name": "stdout",
     "output_type": "stream",
     "text": [
      "FOR PORTUGUESE\n",
      "With just G1, G2: Unregularized accuracy: 0.83 (+/- 0.19)\n",
      "With just G1, G2: Unregularized accuracy: -1.63 (+/- 2.80)\n"
     ]
    }
   ],
   "source": [
    "print(\"FOR PORTUGUESE\")\n",
    "print(\"With just G1, G2: Unregularized accuracy: %0.2f (+/- %0.2f)\" % (unregularized[1].mean(), unregularized[1].std() * 2))\n",
    "print(\"With just G1, G2: Unregularized accuracy: %0.2f (+/- %0.2f)\" % (unregularized[2].mean(), unregularized[2].std() * 2))"
   ]
  },
  {
   "cell_type": "code",
   "execution_count": 49,
   "metadata": {},
   "outputs": [],
   "source": [
    "#Clearly using previous grades is ideal"
   ]
  },
  {
   "cell_type": "code",
   "execution_count": 50,
   "metadata": {},
   "outputs": [
    {
     "name": "stderr",
     "output_type": "stream",
     "text": [
      "C:\\Users\\rosan\\Anaconda3\\lib\\site-packages\\sklearn\\model_selection\\_search.py:813: DeprecationWarning: The default of the `iid` parameter will change from True to False in version 0.22 and will be removed in 0.24. This will change numeric results when test-set sizes are unequal.\n",
      "  DeprecationWarning)\n",
      "C:\\Users\\rosan\\Anaconda3\\lib\\site-packages\\sklearn\\model_selection\\_search.py:813: DeprecationWarning: The default of the `iid` parameter will change from True to False in version 0.22 and will be removed in 0.24. This will change numeric results when test-set sizes are unequal.\n",
      "  DeprecationWarning)\n",
      "C:\\Users\\rosan\\Anaconda3\\lib\\site-packages\\sklearn\\model_selection\\_search.py:813: DeprecationWarning: The default of the `iid` parameter will change from True to False in version 0.22 and will be removed in 0.24. This will change numeric results when test-set sizes are unequal.\n",
      "  DeprecationWarning)\n"
     ]
    }
   ],
   "source": [
    "#Portuguese without grades\n",
    "unregularized, ridge, lasso = runLinearRegression(portTransformed, targetColumn, featureColumnsNoGrades)"
   ]
  },
  {
   "cell_type": "code",
   "execution_count": 51,
   "metadata": {},
   "outputs": [
    {
     "name": "stdout",
     "output_type": "stream",
     "text": [
      "PORTUGUESE WITHOUT GRADES\n",
      "Unregularized accuracy: 0.12 (+/- 0.33)\n",
      "Unregularized accuracy: -8.01 (+/- 11.21)\n",
      "Ridge accuracy: 0.12 (+/- 0.00)\n",
      "Ridge accuracy: -7.96 (+/- 0.00)\n",
      "Lasso accuracy: -0.07 (+/- 0.25)\n",
      "Lasso accuracy: -9.73 (+/- 2.22)\n"
     ]
    }
   ],
   "source": [
    "print(\"PORTUGUESE WITHOUT GRADES\")\n",
    "print(\"Unregularized accuracy: %0.2f (+/- %0.2f)\" % (unregularized[1].mean(), unregularized[1].std() * 2))\n",
    "print(\"Unregularized accuracy: %0.2f (+/- %0.2f)\" % (unregularized[2].mean(), unregularized[2].std() * 2))\n",
    "print(\"Ridge accuracy: %0.2f (+/- %0.2f)\" % (ridge[1].mean(), ridge[1].std() * 2))\n",
    "print(\"Ridge accuracy: %0.2f (+/- %0.2f)\" % (ridge[2].mean(), ridge[2].std() * 2))\n",
    "print(\"Lasso accuracy: %0.2f (+/- %0.2f)\" % (lasso[1].mean(), lasso[1].std() * 2))\n",
    "print(\"Lasso accuracy: %0.2f (+/- %0.2f)\" % (lasso[2].mean(), lasso[2].std() * 2))"
   ]
  },
  {
   "cell_type": "code",
   "execution_count": 52,
   "metadata": {},
   "outputs": [],
   "source": [
    "unregularized_coeffs = returnAttributesWithLargestCoefficients(portXNoGrades, portY, unregularized[0])\n",
    "ridge_coeffs = returnAttributesWithLargestCoefficients(portXNoGrades, portY, ridge[0])"
   ]
  },
  {
   "cell_type": "code",
   "execution_count": 53,
   "metadata": {},
   "outputs": [
    {
     "data": {
      "text/plain": [
       "[['higher', 1.7328765287361145],\n",
       " ['failures', -1.412062105467632],\n",
       " ['schoolsup', -1.3109982195017345],\n",
       " ['school', -1.2001853539917178],\n",
       " ['Fjob_teacher', 0.857834726690596],\n",
       " ['Mjob_health', 0.6382126902867111],\n",
       " ['sex', -0.6329867621099771],\n",
       " ['reason_other', -0.4399081118577788],\n",
       " ['romantic', -0.43150585026470323],\n",
       " ['studytime', 0.40666714833249273],\n",
       " ['paid', -0.371602418736881],\n",
       " ['Fjob_services', -0.3651122828273376],\n",
       " ['Fjob_health', -0.33390891081911117],\n",
       " ['address', 0.322724161401314],\n",
       " ['famsize', 0.3024974354826206],\n",
       " ['Fjob_at_home', 0.27816524401116455],\n",
       " ['Mjob_at_home', -0.26312860379361686],\n",
       " ['internet', 0.252894423336253],\n",
       " ['guardian_other', 0.2490956988933802],\n",
       " ['Mjob_teacher', 0.2486482859985675],\n",
       " ['activities', 0.21912490014928773],\n",
       " ['nursery', -0.21601977807450295],\n",
       " ['reason_reputation', 0.21276411524874017],\n",
       " ['Mjob_other', -0.21273084881683818],\n",
       " ['Dalc', -0.20478231802135333],\n",
       " ['guardian_mother', -0.19428656994546387],\n",
       " ['health', -0.1874220766541435],\n",
       " ['Pstatus', 0.17685922764438924],\n",
       " ['Fedu', 0.1668373110678565],\n",
       " ['famrel', 0.1615346428415253],\n",
       " ['Mjob_services', 0.15734079095749204],\n",
       " ['age', 0.1561134800293774],\n",
       " ['guardian_father', 0.144162686423839],\n",
       " ['freetime', -0.1377758597032609],\n",
       " ['Fjob_other', 0.09385384923811642],\n",
       " ['Walc', -0.08149506965528473],\n",
       " ['goout', -0.06605103011403632],\n",
       " ['traveltime', 0.06246427777207161],\n",
       " ['reason_home', 0.04557751109410555],\n",
       " ['absences', -0.03806300231597197],\n",
       " ['Medu', 0.035318419396375186],\n",
       " ['famsup', -0.020360834401110847],\n",
       " ['reason_course', -0.00496595169155564]]"
      ]
     },
     "execution_count": 53,
     "metadata": {},
     "output_type": "execute_result"
    }
   ],
   "source": [
    "ridge_coeffs"
   ]
  },
  {
   "cell_type": "code",
   "execution_count": 54,
   "metadata": {},
   "outputs": [
    {
     "data": {
      "image/png": "[encoded data removed]",
      "text/plain": [
       "<Figure size 432x288 with 1 Axes>"
      ]
     },
     "metadata": {
      "needs_background": "light"
     },
     "output_type": "display_data"
    }
   ],
   "source": [
    "x = []\n",
    "y = []\n",
    "for i in range(15)[::-1]:\n",
    "    x.append(ridge_coeffs[i][0])\n",
    "    y.append(abs(ridge_coeffs[i][1]))\n",
    "fig, ax = plt.subplots(1,1)\n",
    "plt.barh(range(len(y)), y, align='center')\n",
    "plt.title(\"Predicting Final Score for potuguese feature importance\")\n",
    "plt.yticks(range(len(y)), x)\n",
    "ax.grid(False)"
   ]
  },
  {
   "cell_type": "code",
   "execution_count": 55,
   "metadata": {},
   "outputs": [
    {
     "name": "stderr",
     "output_type": "stream",
     "text": [
      "C:\\Users\\rosan\\Anaconda3\\lib\\site-packages\\sklearn\\model_selection\\_search.py:813: DeprecationWarning: The default of the `iid` parameter will change from True to False in version 0.22 and will be removed in 0.24. This will change numeric results when test-set sizes are unequal.\n",
      "  DeprecationWarning)\n",
      "C:\\Users\\rosan\\Anaconda3\\lib\\site-packages\\sklearn\\model_selection\\_search.py:813: DeprecationWarning: The default of the `iid` parameter will change from True to False in version 0.22 and will be removed in 0.24. This will change numeric results when test-set sizes are unequal.\n",
      "  DeprecationWarning)\n",
      "C:\\Users\\rosan\\Anaconda3\\lib\\site-packages\\sklearn\\model_selection\\_search.py:813: DeprecationWarning: The default of the `iid` parameter will change from True to False in version 0.22 and will be removed in 0.24. This will change numeric results when test-set sizes are unequal.\n",
      "  DeprecationWarning)\n",
      "C:\\Users\\rosan\\Anaconda3\\lib\\site-packages\\sklearn\\model_selection\\_search.py:813: DeprecationWarning: The default of the `iid` parameter will change from True to False in version 0.22 and will be removed in 0.24. This will change numeric results when test-set sizes are unequal.\n",
      "  DeprecationWarning)\n"
     ]
    }
   ],
   "source": [
    "#Math with grades\n",
    "unregularized, ridge, lasso = runLinearRegression(mathTransformed, targetColumn, featureColumns)"
   ]
  },
  {
   "cell_type": "code",
   "execution_count": 56,
   "metadata": {},
   "outputs": [
    {
     "name": "stdout",
     "output_type": "stream",
     "text": [
      "Unregularized accuracy: 0.78 (+/- 0.16)\n",
      "Unregularized accuracy: -4.33 (+/- 4.29)\n",
      "Ridge accuracy: 0.78 (+/- 0.00)\n",
      "Ridge accuracy: -4.31 (+/- 0.00)\n",
      "Lasso accuracy: 0.76 (+/- 0.09)\n",
      "Lasso accuracy: -4.92 (+/- 1.93)\n"
     ]
    }
   ],
   "source": [
    "print(\"Unregularized accuracy: %0.2f (+/- %0.2f)\" % (unregularized[1].mean(), unregularized[1].std() * 2))\n",
    "print(\"Unregularized accuracy: %0.2f (+/- %0.2f)\" % (unregularized[2].mean(), unregularized[2].std() * 2))\n",
    "print(\"Ridge accuracy: %0.2f (+/- %0.2f)\" % (ridge[1].mean(), ridge[1].std() * 2))\n",
    "print(\"Ridge accuracy: %0.2f (+/- %0.2f)\" % (ridge[2].mean(), ridge[2].std() * 2))\n",
    "print(\"Lasso accuracy: %0.2f (+/- %0.2f)\" % (lasso[1].mean(), lasso[1].std() * 2))\n",
    "print(\"Lasso accuracy: %0.2f (+/- %0.2f)\" % (lasso[2].mean(), lasso[2].std() * 2))"
   ]
  },
  {
   "cell_type": "code",
   "execution_count": 57,
   "metadata": {},
   "outputs": [],
   "source": [
    "unregularized_coeffs = returnAttributesWithLargestCoefficients(mathX, mathY, unregularized[0])\n",
    "ridge_coeffs = returnAttributesWithLargestCoefficients(mathX, mathY, ridge[0])"
   ]
  },
  {
   "cell_type": "code",
   "execution_count": 58,
   "metadata": {},
   "outputs": [
    {
     "data": {
      "text/plain": [
       "[['G2', 0.9569749421623123],\n",
       " ['school', 0.4806785918033427],\n",
       " ['Fjob_health', 0.4605925095843877],\n",
       " ['schoolsup', 0.4565615460448503],\n",
       " ['famrel', 0.35677335806260874],\n",
       " ['activities', -0.34598283586855844],\n",
       " ['reason_other', 0.2952289672597463],\n",
       " ['romantic', -0.27220670882275577],\n",
       " ['higher', 0.22589743598688197],\n",
       " ['nursery', -0.2226862384746505],\n",
       " ['reason_home', -0.22165995404966668],\n",
       " ['Fjob_services', -0.19230307837921778],\n",
       " ['G1', 0.18915999921614982],\n",
       " ['Dalc', -0.18494463030526137],\n",
       " ['famsup', 0.17682835213472578],\n",
       " ['Walc', 0.17675062916401005],\n",
       " ['sex', 0.17442411572728314],\n",
       " ['age', -0.17331231647888412],\n",
       " ['Mjob_health', -0.16126974419194837],\n",
       " ['failures', -0.16059873613053516],\n",
       " ['internet', -0.1442996179468404],\n",
       " ['Fedu', -0.13392959817907027],\n",
       " ['Medu', 0.12970163711405683],\n",
       " ['Fjob_at_home', 0.12942649442861068],\n",
       " ['Pstatus', -0.12782047983191097],\n",
       " ['reason_reputation', 0.11656294110717763],\n",
       " ['studytime', -0.1047407851722966],\n",
       " ['guardian_mother', 0.10459013929641986],\n",
       " ['address', 0.10452830466684575],\n",
       " ['traveltime', 0.09687703667746976],\n",
       " ['guardian_father', -0.09108447642231784],\n",
       " ['guardian_other', -0.08464276012319417],\n",
       " ['paid', 0.07590008979492381],\n",
       " ['health', 0.06296434772876529],\n",
       " ['Mjob_other', 0.059230754411667176],\n",
       " ['freetime', 0.046996793799238476],\n",
       " ['Fjob_other', 0.046178780333175136],\n",
       " ['absences', 0.04587219474874481],\n",
       " ['Mjob_teacher', -0.04130947264104486],\n",
       " ['famsize', 0.0365895703897611],\n",
       " ['Mjob_services', 0.03202859021887608],\n",
       " ['Fjob_teacher', 0.017164235508407677],\n",
       " ['Mjob_at_home', -0.015018277092733293],\n",
       " ['reason_course', -0.012547677840177147],\n",
       " ['goout', 0.011948139188264503]]"
      ]
     },
     "execution_count": 58,
     "metadata": {},
     "output_type": "execute_result"
    }
   ],
   "source": [
    "ridge_coeffs"
   ]
  },
  {
   "cell_type": "code",
   "execution_count": 59,
   "metadata": {},
   "outputs": [
    {
     "data": {
      "image/png": "[encoded data removed]",
      "text/plain": [
       "<Figure size 432x288 with 1 Axes>"
      ]
     },
     "metadata": {
      "needs_background": "light"
     },
     "output_type": "display_data"
    }
   ],
   "source": [
    "x = []\n",
    "y = []\n",
    "for i in range(15)[::-1]:\n",
    "    x.append(ridge_coeffs[i][0])\n",
    "    y.append(abs(ridge_coeffs[i][1]))\n",
    "fig, ax = plt.subplots(1,1)\n",
    "plt.barh(range(len(y)), y, align='center')\n",
    "plt.title(\"Ridge absolute coefficients for Math\")\n",
    "plt.yticks(range(len(y)), x)\n",
    "ax.grid(False)"
   ]
  },
  {
   "cell_type": "code",
   "execution_count": null,
   "metadata": {},
   "outputs": [],
   "source": []
  },
  {
   "cell_type": "code",
   "execution_count": 60,
   "metadata": {},
   "outputs": [
    {
     "name": "stderr",
     "output_type": "stream",
     "text": [
      "C:\\Users\\rosan\\Anaconda3\\lib\\site-packages\\sklearn\\model_selection\\_search.py:813: DeprecationWarning: The default of the `iid` parameter will change from True to False in version 0.22 and will be removed in 0.24. This will change numeric results when test-set sizes are unequal.\n",
      "  DeprecationWarning)\n",
      "C:\\Users\\rosan\\Anaconda3\\lib\\site-packages\\sklearn\\model_selection\\_search.py:813: DeprecationWarning: The default of the `iid` parameter will change from True to False in version 0.22 and will be removed in 0.24. This will change numeric results when test-set sizes are unequal.\n",
      "  DeprecationWarning)\n",
      "C:\\Users\\rosan\\Anaconda3\\lib\\site-packages\\sklearn\\model_selection\\_search.py:813: DeprecationWarning: The default of the `iid` parameter will change from True to False in version 0.22 and will be removed in 0.24. This will change numeric results when test-set sizes are unequal.\n",
      "  DeprecationWarning)\n",
      "C:\\Users\\rosan\\Anaconda3\\lib\\site-packages\\sklearn\\model_selection\\_search.py:813: DeprecationWarning: The default of the `iid` parameter will change from True to False in version 0.22 and will be removed in 0.24. This will change numeric results when test-set sizes are unequal.\n",
      "  DeprecationWarning)\n"
     ]
    }
   ],
   "source": [
    "unregularized, ridge, lasso = runLinearRegression(mathTransformed, ['G3'], ['G2', 'G1'])"
   ]
  },
  {
   "cell_type": "code",
   "execution_count": 61,
   "metadata": {},
   "outputs": [
    {
     "name": "stdout",
     "output_type": "stream",
     "text": [
      "FOR MATH\n",
      "With just G1, G2: Unregularized accuracy: 0.81 (+/- 0.18)\n",
      "With just G1, G2: Unregularized accuracy: -3.82 (+/- 4.92)\n"
     ]
    }
   ],
   "source": [
    "print(\"FOR MATH\")\n",
    "print(\"With just G1, G2: Unregularized accuracy: %0.2f (+/- %0.2f)\" % (unregularized[1].mean(), unregularized[1].std() * 2))\n",
    "print(\"With just G1, G2: Unregularized accuracy: %0.2f (+/- %0.2f)\" % (unregularized[2].mean(), unregularized[2].std() * 2))"
   ]
  },
  {
   "cell_type": "code",
   "execution_count": 62,
   "metadata": {},
   "outputs": [],
   "source": [
    "#Using previous grades is ideal"
   ]
  },
  {
   "cell_type": "code",
   "execution_count": 63,
   "metadata": {},
   "outputs": [
    {
     "name": "stdout",
     "output_type": "stream",
     "text": [
      "MATH WITHOUT GRADES\n",
      "Unregularized accuracy: 0.81 (+/- 0.18)\n",
      "Unregularized accuracy: -3.82 (+/- 4.92)\n",
      "Ridge accuracy: 0.82 (+/- 0.00)\n",
      "Ridge accuracy: -3.81 (+/- 0.00)\n",
      "Lasso accuracy: 0.77 (+/- 0.10)\n",
      "Lasso accuracy: -4.88 (+/- 2.01)\n"
     ]
    }
   ],
   "source": [
    "print(\"MATH WITHOUT GRADES\")\n",
    "print(\"Unregularized accuracy: %0.2f (+/- %0.2f)\" % (unregularized[1].mean(), unregularized[1].std() * 2))\n",
    "print(\"Unregularized accuracy: %0.2f (+/- %0.2f)\" % (unregularized[2].mean(), unregularized[2].std() * 2))\n",
    "print(\"Ridge accuracy: %0.2f (+/- %0.2f)\" % (ridge[1].mean(), ridge[1].std() * 2))\n",
    "print(\"Ridge accuracy: %0.2f (+/- %0.2f)\" % (ridge[2].mean(), ridge[2].std() * 2))\n",
    "print(\"Lasso accuracy: %0.2f (+/- %0.2f)\" % (lasso[1].mean(), lasso[1].std() * 2))\n",
    "print(\"Lasso accuracy: %0.2f (+/- %0.2f)\" % (lasso[2].mean(), lasso[2].std() * 2))"
   ]
  },
  {
   "cell_type": "code",
   "execution_count": 64,
   "metadata": {},
   "outputs": [],
   "source": [
    "unregularized_coeffs = returnAttributesWithLargestCoefficients(mathXNoGrades, mathY, unregularized[0])\n",
    "ridge_coeffs = returnAttributesWithLargestCoefficients(mathXNoGrades, mathY, ridge[0])"
   ]
  },
  {
   "cell_type": "code",
   "execution_count": 65,
   "metadata": {},
   "outputs": [
    {
     "data": {
      "text/plain": [
       "[['failures', -1.7237843879874786],\n",
       " ['Fjob_teacher', 1.5592305629028025],\n",
       " ['higher', 1.370491955146496],\n",
       " ['schoolsup', -1.3504358528570708],\n",
       " ['sex', 1.262197082085821],\n",
       " ['Mjob_teacher', -1.1979540772484458],\n",
       " ['romantic', -1.0943606326722362],\n",
       " ['Mjob_health', 1.041245435962719],\n",
       " ['famsup', -0.8617372257798027],\n",
       " ['school', 0.725297995626433],\n",
       " ['famsize', 0.7027324534827633],\n",
       " ['Mjob_services', 0.7014156072564999],\n",
       " ['guardian_other', 0.5972834123452756],\n",
       " ['goout', -0.5935693562119382],\n",
       " ['Fjob_health', 0.5808856844653885],\n",
       " ['address', 0.5512969850128201],\n",
       " ['studytime', 0.5494270474323482],\n",
       " ['internet', 0.49807794063035854],\n",
       " ['reason_other', 0.49589163168446937],\n",
       " ['Medu', 0.4567198624361989],\n",
       " ['Fjob_other', -0.38617731711412945],\n",
       " ['age', -0.37508400824481625],\n",
       " ['paid', 0.33973035277571456],\n",
       " ['reason_reputation', 0.3318375810140073],\n",
       " ['activities', -0.3294874334262046],\n",
       " ['Pstatus', -0.32014695646196983],\n",
       " ['Mjob_other', -0.31588375657765017],\n",
       " ['freetime', 0.3023532317997814],\n",
       " ['reason_course', -0.2812309436260941],\n",
       " ['Dalc', -0.27209472046922817],\n",
       " ['Walc', 0.2632421981136683],\n",
       " ['traveltime', -0.24025095245603134],\n",
       " ['Fjob_at_home', 0.23330356201392827],\n",
       " ['Fjob_services', -0.23235804822879694],\n",
       " ['famrel', 0.231522057387036],\n",
       " ['reason_home', -0.20269250282782447],\n",
       " ['nursery', -0.17729194113609814],\n",
       " ['health', -0.1767658065315547],\n",
       " ['guardian_father', -0.15241546849550022],\n",
       " ['Fedu', -0.10445992604537875],\n",
       " ['guardian_mother', -0.08269499512961616],\n",
       " ['absences', 0.05628210869308929],\n",
       " ['Mjob_at_home', 0.04299076702482267]]"
      ]
     },
     "execution_count": 65,
     "metadata": {},
     "output_type": "execute_result"
    }
   ],
   "source": [
    "ridge_coeffs"
   ]
  },
  {
   "cell_type": "code",
   "execution_count": 66,
   "metadata": {},
   "outputs": [
    {
     "data": {
      "image/png": "[encoded data removed]",
      "text/plain": [
       "<Figure size 432x288 with 1 Axes>"
      ]
     },
     "metadata": {
      "needs_background": "light"
     },
     "output_type": "display_data"
    }
   ],
   "source": [
    "x = []\n",
    "y = []\n",
    "for i in range(15)[::-1]:\n",
    "    x.append(ridge_coeffs[i][0])\n",
    "    y.append(abs(ridge_coeffs[i][1]))\n",
    "fig, ax = plt.subplots(1,1)\n",
    "plt.barh(range(len(y)), y, align='center')\n",
    "plt.title(\"Predicting Final Score for math feature importance\")\n",
    "plt.yticks(range(len(y)), x)\n",
    "ax.grid(False)"
   ]
  },
  {
   "cell_type": "code",
   "execution_count": 67,
   "metadata": {},
   "outputs": [],
   "source": [
    "#NAIVE METHODS"
   ]
  },
  {
   "cell_type": "code",
   "execution_count": 68,
   "metadata": {},
   "outputs": [],
   "source": [
    "def calculateMAE(lst1, lst2):\n",
    "    ''' \n",
    "    Calculates the mean absolute error between two lists\n",
    "    '''\n",
    "    assert(len(lst1) == len(lst2))\n",
    "    totalError = 0.0\n",
    "    for i in range(len(lst1)):\n",
    "        totalError += abs(lst2[i] - lst1[i])\n",
    "    return totalError / len(lst1)"
   ]
  },
  {
   "cell_type": "code",
   "execution_count": 69,
   "metadata": {},
   "outputs": [],
   "source": [
    "def calculateMSE(lst1, lst2):\n",
    "    ''' \n",
    "    Calculates the mean squared error between two lists\n",
    "    '''\n",
    "    assert(len(lst1) == len(lst2))\n",
    "    totalError = 0.0\n",
    "    for i in range(len(lst1)):\n",
    "        totalError += (lst2[i] - lst1[i]) ** 2\n",
    "    return totalError / len(lst1)"
   ]
  },
  {
   "cell_type": "code",
   "execution_count": 70,
   "metadata": {},
   "outputs": [],
   "source": [
    "mathTransformed['diff'] = mathTransformed['G3'] - mathTransformed['G1']\n",
    "portTransformed['diff'] = portTransformed['G3'] - portTransformed['G1']"
   ]
  },
  {
   "cell_type": "code",
   "execution_count": 71,
   "metadata": {},
   "outputs": [],
   "source": [
    "actualDiffMath = list(mathTransformed['diff'])\n",
    "actualDiffPort = list(portTransformed['diff'])"
   ]
  },
  {
   "cell_type": "code",
   "execution_count": 72,
   "metadata": {},
   "outputs": [],
   "source": [
    "import statistics as stat\n",
    "mean_math = sum(actualDiffMath) / len(actualDiffMath)\n",
    "mean_port = sum(actualDiffPort)/ len(actualDiffPort)\n",
    "median_math = stat.median(actualDiffMath)\n",
    "median_port = stat.median(actualDiffPort)"
   ]
  },
  {
   "cell_type": "code",
   "execution_count": 73,
   "metadata": {},
   "outputs": [],
   "source": [
    "mean_math_lst = [mean_math for _ in range(len(actualDiffMath))]\n",
    "median_math_lst = [median_math for _ in range(len(actualDiffMath))]\n",
    "mean_port_lst = [mean_port for _ in range(len(actualDiffPort))]\n",
    "median_port_lst = [median_port for _ in range (len(actualDiffPort))]"
   ]
  },
  {
   "cell_type": "code",
   "execution_count": 74,
   "metadata": {},
   "outputs": [
    {
     "name": "stdout",
     "output_type": "stream",
     "text": [
      "MAE for mean, math 1.8810447043743002\n",
      "MAE for median, math 1.7848101265822784\n",
      "MAE for mean, port 1.216070237250147\n",
      "MAE for median, port 1.1864406779661016\n"
     ]
    }
   ],
   "source": [
    "print(\"MAE for mean, math \" + str(calculateMAE(mean_math_lst, actualDiffMath)))\n",
    "print(\"MAE for median, math \" + str(calculateMAE(median_math_lst, actualDiffMath)))\n",
    "print(\"MAE for mean, port \" + str(calculateMAE(mean_port_lst, actualDiffPort)))\n",
    "print(\"MAE for median, port \" + str(calculateMAE(median_port_lst, actualDiffPort)))"
   ]
  }
 ],
 "metadata": {
  "kernelspec": {
   "display_name": "Python 3",
   "language": "python",
   "name": "python3"
  },
  "language_info": {
   "codemirror_mode": {
    "name": "ipython",
    "version": 3
   },
   "file_extension": ".py",
   "mimetype": "text/x-python",
   "name": "python",
   "nbconvert_exporter": "python",
   "pygments_lexer": "ipython3",
   "version": "3.7.3"
  }
 },
 "nbformat": 4,
 "nbformat_minor": 2
}
